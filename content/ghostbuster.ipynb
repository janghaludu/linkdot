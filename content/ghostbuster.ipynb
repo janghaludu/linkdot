{
 "cells": [
  {
   "cell_type": "markdown",
   "metadata": {},
   "source": [
    "### Riddler Express\n",
    "SEP. 15, 2017 AT 8:00 AM\n",
    "\n",
    "From Max Weinreich, a phantasmal puzzle:\n",
    "\n",
    "> Twenty ghostbusters are on their annual camping retreat. Two of them, Abe and Betty, have discovered that another pair, Candace and Dan, are in fact ghosts posing as ghostbusters. Abe and Betty hatch a plan: When all 20 campers are sitting in a circle around the campfire, Abe will fire his proton pack at Candace, and Betty will simultaneously fire her proton pack at Dan, annihilating the ghosts. However, if two proton streams cross, it means the end of all life on Earth.\n",
    "\n",
    "> If the ghostbusters are arranged randomly around the fire, what are the chances that Abe and Betty will cross streams?\n",
    "\n"
   ]
  },
  {
   "cell_type": "markdown",
   "metadata": {},
   "source": [
    "![](http://linkdot.link/images/IMG1067.JPG)"
   ]
  },
  {
   "cell_type": "markdown",
   "metadata": {},
   "source": [
    "The answer is 1/3 because, there are exactly 6 ways in which Abe, Betty, Candace and Dan can be arranged in a circle, out of which 2 configurations result in cross streams. It doesn't matter how many ghostbusters are present between them. If there are n unsuspecting ghostbusters between them, each one of these 6 configurations can be thought of as an equally likely class of arrangements comprising $\\;(n+3)!/6\\;$ arrangements. If this doesn't feel quite right, picture the scenario as A, B, C and D getting into their positions first, followed by the rest of the team. The 5th member has 4 options to choose from, 6th member has 5 options and so on. So each one of these $(4-1)!\\;=\\;6\\;$ configurations account for $4.5.6. .... .n +3\\;=\\;(n+3)!/6\\;$ arrangements. Since all of them are equally likely, the answer remains the same irrespective of the value of n. This wasn't obvious to begin with but after sketching the solutions for n = 4 and 5 members and then verifying for 6,7 and 8 with Python, it became evident. "
   ]
  },
  {
   "cell_type": "markdown",
   "metadata": {},
   "source": [
    "# Bonus"
   ]
  },
  {
   "cell_type": "markdown",
   "metadata": {},
   "source": [
    "There are two more ways in which I solved this problem. One using exhaustive enumeration  and the other by realizing how this problem is equivalent to the following.\n",
    "\n",
    "> Given two points 1 and 2 randomly chosen on a circle and two lines L1 and L2  drawn through 1 and 2 respectively, what are the chances of these two lines intersecting *inside* the circle?\n"
   ]
  },
  {
   "cell_type": "markdown",
   "metadata": {},
   "source": [
    "#### Circles and Chords\n",
    "\n",
    "Start with two points lying on the circle, their relative position parametrized by $\\theta\\;$. For this given value of $\\theta\\;$, $L_1$ can be parametrized using $\\alpha$, it's relative inclination w.r.t the line joining the points. After some minor hacking, $L_2$'s inclination range w.r.t the base can be expressed as a function of $\\theta$ and $\\alpha$. Plugging these values into the probability equation, we get the chance as 1/3."
   ]
  },
  {
   "cell_type": "markdown",
   "metadata": {},
   "source": [
    "![](http://linkdot.link/images/IMG1066.JPG)"
   ]
  },
  {
   "cell_type": "markdown",
   "metadata": {},
   "source": [
    "$$2\\int_{-\\pi}^{\\pi}(\\int_{0}^{\\pi-\\theta/2}\\frac{\\pi-\\alpha-\\theta/2}{2\\pi} \\frac{d\\alpha}{2\\pi} + \\int_{\\pi-\\theta/2}^{\\pi}\\frac{2\\pi-\\alpha+\\theta/2}{2\\pi} \\frac{d\\alpha}{2\\pi} ) \\frac{d\\theta}{2\\pi} \\;=\\;\\frac{1}{3}$$ "
   ]
  },
  {
   "cell_type": "code",
   "execution_count": 86,
   "metadata": {
    "collapsed": false
   },
   "outputs": [],
   "source": [
    "from sympy import *\n",
    "init_printing()\n",
    "from sympy.abc import theta, alpha, pi, n, d, j"
   ]
  },
  {
   "cell_type": "code",
   "execution_count": 87,
   "metadata": {
    "collapsed": true
   },
   "outputs": [],
   "source": [
    "a = integrate(((pi - alpha - theta/2)/(4*pi*pi)), (alpha,0,pi-theta/2))\n",
    "b = integrate((2*pi - alpha+theta/2)/(4*pi*pi), (alpha,pi-theta/2, pi))"
   ]
  },
  {
   "cell_type": "code",
   "execution_count": 88,
   "metadata": {
    "collapsed": false
   },
   "outputs": [
    {
     "data": {
      "image/png": "[encoded data removed]",
      "text/latex": [
       "$$\\frac{\\theta}{32 \\pi^{2}} \\left(4 \\pi + 3 \\theta\\right)$$"
      ],
      "text/plain": [
       "θ⋅(4⋅π + 3⋅θ)\n",
       "─────────────\n",
       "        2    \n",
       "    32⋅π     "
      ]
     },
     "execution_count": 88,
     "metadata": {},
     "output_type": "execute_result"
    }
   ],
   "source": [
    "simplify(b)"
   ]
  },
  {
   "cell_type": "code",
   "execution_count": 34,
   "metadata": {
    "collapsed": false
   },
   "outputs": [
    {
     "data": {
      "image/png": "[encoded data removed]",
      "text/latex": [
       "$$\\frac{\\left(2 \\pi - \\theta\\right)^{2}}{32 \\pi^{2}}$$"
      ],
      "text/plain": [
       "         2\n",
       "(2⋅π - θ) \n",
       "──────────\n",
       "      2   \n",
       "  32⋅π    "
      ]
     },
     "execution_count": 34,
     "metadata": {},
     "output_type": "execute_result"
    }
   ],
   "source": [
    "simplify(a)"
   ]
  },
  {
   "cell_type": "code",
   "execution_count": 37,
   "metadata": {
    "collapsed": true
   },
   "outputs": [],
   "source": [
    "q = expand(a) + expand(b)"
   ]
  },
  {
   "cell_type": "code",
   "execution_count": 38,
   "metadata": {
    "collapsed": false
   },
   "outputs": [
    {
     "data": {
      "image/png": "[encoded data removed]",
      "text/latex": [
       "$$\\frac{1}{8} + \\frac{\\theta^{2}}{8 \\pi^{2}}$$"
      ],
      "text/plain": [
       "      2 \n",
       "1    θ  \n",
       "─ + ────\n",
       "8      2\n",
       "    8⋅π "
      ]
     },
     "execution_count": 38,
     "metadata": {},
     "output_type": "execute_result"
    }
   ],
   "source": [
    "q"
   ]
  },
  {
   "cell_type": "code",
   "execution_count": 39,
   "metadata": {
    "collapsed": false
   },
   "outputs": [
    {
     "data": {
      "image/png": "[encoded data removed]",
      "text/latex": [
       "$$\\frac{1}{3}$$"
      ],
      "text/plain": [
       "1/3"
      ]
     },
     "execution_count": 39,
     "metadata": {},
     "output_type": "execute_result"
    }
   ],
   "source": [
    "2*integrate(q/(2*pi), (theta,-pi, pi))"
   ]
  },
  {
   "cell_type": "markdown",
   "metadata": {},
   "source": [
    "#### Exhaustive Enumeration  Solution\n",
    "\n",
    "Let A and B be represented by 2 points on the circle. Say there are $d$ number of people in one of the arcs connecting  A and  B. So we have  $n-d-2$ people in the other arc connecting A and B. Notice how for every pair of points chosen from one arc, there exists exactly one solution, whereas no solutions exist for any pair of points picked from both the arcs.\n",
    "\n",
    "The required answer therefore is $$\\sum_{d=0}^{n-2} {n-d-2 \\choose 2} + {d \\choose 2}/(n-1)!  $$\n",
    "\n",
    "I couldn't simplify this further but Sympy evaluated this to 1/3 for all values of n I plugged in."
   ]
  },
  {
   "cell_type": "code",
   "execution_count": 48,
   "metadata": {
    "collapsed": true
   },
   "outputs": [],
   "source": [
    "from sympy import binomial, factorial, Sum"
   ]
  },
  {
   "cell_type": "code",
   "execution_count": 68,
   "metadata": {
    "collapsed": false
   },
   "outputs": [
    {
     "data": {
      "image/png": "[encoded data removed]",
      "text/latex": [
       "$$\\frac{1}{\\left(n - 1\\right)!} \\sum_{d=0}^{n - 2} \\left(d \\left(- 2 d + 2 n - 4\\right) + {\\binom{d}{2}} + {\\binom{- d + n - 2}{2}}\\right)$$"
      ],
      "text/plain": [
       "n - 2                                          \n",
       " ____                                          \n",
       " ╲                                             \n",
       "  ╲   ⎛                     ⎛d⎞   ⎛-d + n - 2⎞⎞\n",
       "   ╲  ⎜d⋅(-2⋅d + 2⋅n - 4) + ⎜ ⎟ + ⎜          ⎟⎟\n",
       "   ╱  ⎝                     ⎝2⎠   ⎝    2     ⎠⎠\n",
       "  ╱                                            \n",
       " ╱                                             \n",
       " ‾‾‾‾                                          \n",
       "d = 0                                          \n",
       "───────────────────────────────────────────────\n",
       "                    (n - 1)!                   "
      ]
     },
     "execution_count": 68,
     "metadata": {},
     "output_type": "execute_result"
    }
   ],
   "source": [
    "Sum(binomial(n-d-2,2) + binomial(d,2) + 2*(n-d-2)*d, (d,0,n-2))/factorial(n-1)"
   ]
  },
  {
   "cell_type": "code",
   "execution_count": 84,
   "metadata": {
    "collapsed": false
   },
   "outputs": [
    {
     "data": {
      "image/png": "[encoded data removed]",
      "text/latex": [
       "$$\\frac{1}{3}$$"
      ],
      "text/plain": [
       "1/3"
      ]
     },
     "execution_count": 84,
     "metadata": {},
     "output_type": "execute_result"
    }
   ],
   "source": [
    "(Sum(simplify(binomial(5-j-2,2) + binomial(j,2)), (j,0,5-2))/factorial(4)).doit()"
   ]
  },
  {
   "cell_type": "markdown",
   "metadata": {},
   "source": [
    "###  Verification (Sort Of)"
   ]
  },
  {
   "cell_type": "markdown",
   "metadata": {},
   "source": [
    "Not efficient but does the job. "
   ]
  },
  {
   "cell_type": "code",
   "execution_count": 89,
   "metadata": {
    "collapsed": false
   },
   "outputs": [],
   "source": [
    "from itertools import permutations\n",
    "from math import factorial"
   ]
  },
  {
   "cell_type": "code",
   "execution_count": 90,
   "metadata": {
    "collapsed": true
   },
   "outputs": [],
   "source": [
    "def validConf(conf):\n",
    "    return 1 if \\\n",
    "    ((conf.index('a1') < conf.index('b1') < conf.index('b2') < conf.index('a2')) or\\\n",
    "    (conf.index('a1') < conf.index('b2') < conf.index('b1') < conf.index('a2')) or\\\n",
    "    (conf.index('a1') < conf.index('a2') < conf.index('b1') < conf.index('b2')) or\\\n",
    "    (conf.index('a1') < conf.index('a2') < conf.index('b2') < conf.index('b1')))\\\n",
    "    else 0"
   ]
  },
  {
   "cell_type": "code",
   "execution_count": 29,
   "metadata": {
    "collapsed": false
   },
   "outputs": [],
   "source": [
    "def probCrossFire(n):\n",
    "    nPlus4People = ['a1', 'b1', 'a2', 'b2'] +\\\n",
    "                    [str(number) for number in range(1,n+1)]\n",
    "    allArrangements = list(permutations(nPlus4People))\n",
    "    cyclicArrangements = allArrangements[0:factorial(n+3)]\n",
    "    noCrossFire = sum([validConf(arrangement) for arrangement in cyclicArrangements])\n",
    "    return 1 - noCrossFire/len(cyclicArrangements)\n",
    "    #return len(list(filter(lambda f: validConf(f),allArrangements))) / len(allArrangements)"
   ]
  },
  {
   "cell_type": "code",
   "execution_count": 91,
   "metadata": {
    "collapsed": false
   },
   "outputs": [
    {
     "data": {
      "image/png": "[encoded data removed]",
      "text/latex": [
       "$$0.33333333333333337$$"
      ],
      "text/plain": [
       "0.33333333333333337"
      ]
     },
     "execution_count": 91,
     "metadata": {},
     "output_type": "execute_result"
    }
   ],
   "source": [
    "probCrossFire(5)"
   ]
  }
 ],
 "metadata": {
  "anaconda-cloud": {},
  "kernelspec": {
   "display_name": "Python [conda env:py3k]",
   "language": "python",
   "name": "conda-env-py3k-py"
  },
  "language_info": {
   "codemirror_mode": {
    "name": "ipython",
    "version": 3
   },
   "file_extension": ".py",
   "mimetype": "text/x-python",
   "name": "python",
   "nbconvert_exporter": "python",
   "pygments_lexer": "ipython3",
   "version": "3.6.0"
  }
 },
 "nbformat": 4,
 "nbformat_minor": 1
}
