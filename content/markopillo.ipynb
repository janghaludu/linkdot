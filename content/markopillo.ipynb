{
 "cells": [
  {
   "cell_type": "markdown",
   "metadata": {},
   "source": [
    "# Five Thirty Eight - Riddler Express (August 25th)"
   ]
  },
  {
   "cell_type": "markdown",
   "metadata": {},
   "source": [
    "> You take half of a vitamin every morning. The vitamins are sold in a bottle of 100 (whole) tablets, so at first you have to cut the tablets in half. Every day you randomly pull one thing from the bottle — if it’s a whole tablet, you cut it in half and put the leftover half back in the bottle. If it’s a half-tablet, you take the vitamin. You just bought a fresh bottle. How many days, on average, will it be before you pull a half-tablet out of the bottle?\n",
    "\n",
    "> Extra credit: What if the halves are less likely to come up than the full tablets? They are smaller, after all."
   ]
  },
  {
   "cell_type": "markdown",
   "metadata": {},
   "source": [
    "The problem is screaming for Markov modelling but I felt it could be solved using basic probability concepts alone and went ahead with the following approach.  "
   ]
  },
  {
   "cell_type": "markdown",
   "metadata": {},
   "source": [
    "# Algebraic Solution"
   ]
  },
  {
   "cell_type": "code",
   "execution_count": 56,
   "metadata": {
    "collapsed": false
   },
   "outputs": [],
   "source": [
    "from sympy.abc import i, j, k, n, z \n",
    "from sympy import Product, factorial, Sum, oo, evalf, factor\n",
    "from sympy import *\n",
    "init_printing()"
   ]
  },
  {
   "cell_type": "markdown",
   "metadata": {},
   "source": [
    "Average number of days before one pulls a half-tablet out is  $\\sum_{k=2}^{101}\\;k.P(\\;First\\;Ever\\;🚦 🚥_{k^{th} day})$\n",
    "\n",
    "<br>\n",
    "\n",
    "And $P(\\;First\\;Ever\\;🚦 🚥_{i^{th} day})\\;=\\;P(\\;💊\\;_{1^{st} day})P(\\;💊\\;_{2^{nd} day})....P( \\;💊\\;_{i-1^{th} day})P(\\;🚦 🚥_{i^{th} day})$\n",
    "\n",
    "<br>\n",
    "\n",
    "After a few simplifications, the required answer can be expressed as"
   ]
  },
  {
   "cell_type": "code",
   "execution_count": 51,
   "metadata": {
    "collapsed": false
   },
   "outputs": [
    {
     "data": {
      "image/png": "[encoded data removed]",
      "text/latex": [
       "$$\\sum_{j=2}^{99} \\frac{j}{100} \\left(j - 1\\right) \\prod_{i=0}^{j - 2} \\left(- \\frac{i}{100} + 1\\right)$$"
      ],
      "text/plain": [
       "   99                               \n",
       "_______                             \n",
       "╲                                   \n",
       " ╲                 j - 2            \n",
       "  ╲               ┬──────┬          \n",
       "   ╲              │      │    i     \n",
       "    ╲   j⋅(j - 1)⋅│      │ - ─── + 1\n",
       "     ╲            │      │   100    \n",
       "     ╱            │      │          \n",
       "    ╱              i = 0            \n",
       "   ╱    ────────────────────────────\n",
       "  ╱                 100             \n",
       " ╱                                  \n",
       "╱                                   \n",
       "‾‾‾‾‾‾‾                             \n",
       " j = 2                              "
      ]
     },
     "execution_count": 51,
     "metadata": {},
     "output_type": "execute_result"
    }
   ],
   "source": [
    "simplify(expectedDays)"
   ]
  },
  {
   "cell_type": "markdown",
   "metadata": {},
   "source": [
    "This is probably the point where something cool can be done, say for example, using  inequalities to get upper and lower bounds or conjuring up some distribution / arrangement that maps to these coefficients. I chose the boring method of letting the computer handle these calculations though. I was more interested in implementing a simulation for this problem and wanted the get the answer algebraically so that I can compare it with the number the simulation spits out.   "
   ]
  },
  {
   "cell_type": "code",
   "execution_count": 59,
   "metadata": {
    "collapsed": false
   },
   "outputs": [
    {
     "data": {
      "image/png": "[encoded data removed]",
      "text/latex": [
       "$$13.209960630216$$"
      ],
      "text/plain": [
       "13.2099606302160"
      ]
     },
     "execution_count": 59,
     "metadata": {},
     "output_type": "execute_result"
    }
   ],
   "source": [
    "expectedDays = Sum(Product(1-i/100, (i, 0, j-2) )*j*(j-1)/100, (j, 2, 99))\n",
    "expectedDays.evalf()"
   ]
  },
  {
   "cell_type": "markdown",
   "metadata": {},
   "source": [
    "## Bonus Credit Solution"
   ]
  },
  {
   "cell_type": "markdown",
   "metadata": {},
   "source": [
    "In  case, a whole-tablet is $\\lambda$ times more likely than a half-tablet to be picked"
   ]
  },
  {
   "cell_type": "code",
   "execution_count": 49,
   "metadata": {
    "collapsed": false
   },
   "outputs": [],
   "source": [
    "def modifiedExpectedDays(Lambda):\n",
    "    return Sum(Product((Lambda*(100-i)/(Lambda*(100-i) + i)),\n",
    "                       (i, 0, j) )*(j+1)*(j+2)/(Lambda*(100-j-1) + j+1),\n",
    "                       (j, 1, 99)).evalf()"
   ]
  },
  {
   "cell_type": "code",
   "execution_count": 57,
   "metadata": {
    "collapsed": false
   },
   "outputs": [
    {
     "data": {
      "image/png": "[encoded data removed]",
      "text/latex": [
       "$$- \\sum_{j=1}^{99} \\frac{1}{j z - j - 99 z - 1} \\left(j + 1\\right) \\left(j + 2\\right) \\prod_{i=0}^{j} \\left(- \\frac{i z}{- i z + i + 100 z} + \\frac{100 z}{- i z + i + 100 z}\\right)$$"
      ],
      "text/plain": [
       "    99                                                                 \n",
       " _______                                                               \n",
       " ╲                                                                     \n",
       "  ╲                         j                                          \n",
       "   ╲                     ┬──────┬                                      \n",
       "    ╲                    │      │         i⋅z               100⋅z      \n",
       "     ╲   (j + 1)⋅(j + 2)⋅│      │ - ──────────────── + ────────────────\n",
       "      ╲                  │      │   -i⋅z + i + 100⋅z   -i⋅z + i + 100⋅z\n",
       "-     ╱                  │      │                                      \n",
       "     ╱                    i = 0                                        \n",
       "    ╱    ──────────────────────────────────────────────────────────────\n",
       "   ╱                           j⋅z - j - 99⋅z - 1                      \n",
       "  ╱                                                                    \n",
       " ╱                                                                     \n",
       " ‾‾‾‾‾‾‾                                                               \n",
       "  j = 1                                                                "
      ]
     },
     "execution_count": 57,
     "metadata": {},
     "output_type": "execute_result"
    }
   ],
   "source": [
    "factor(modifiedExpectedDays(z))"
   ]
  },
  {
   "cell_type": "code",
   "execution_count": 58,
   "metadata": {
    "collapsed": false
   },
   "outputs": [
    {
     "data": {
      "image/png": "[encoded data removed]",
      "text/latex": [
       "$$17.7366576915744$$"
      ],
      "text/plain": [
       "17.7366576915744"
      ]
     },
     "execution_count": 58,
     "metadata": {},
     "output_type": "execute_result"
    }
   ],
   "source": [
    "modifiedExpectedDays(2) # If the whole-tablet is twice as likely to be picked"
   ]
  },
  {
   "cell_type": "markdown",
   "metadata": {},
   "source": [
    "## How the expected number of days varies with Lambda"
   ]
  },
  {
   "cell_type": "code",
   "execution_count": 41,
   "metadata": {
    "collapsed": true
   },
   "outputs": [],
   "source": [
    "b = [int(modifiedExpectedDays(factor)) for factor in range(1,1000,100)]"
   ]
  },
  {
   "cell_type": "code",
   "execution_count": 63,
   "metadata": {
    "collapsed": false
   },
   "outputs": [
    {
     "data": {
      "text/html": [
       "<iframe id=\"igraph\" scrolling=\"no\" style=\"border:none;\" seamless=\"seamless\" src=\"https://plot.ly/~shreeha/138.embed\" height=\"525px\" width=\"100%\"></iframe>"
      ],
      "text/plain": [
       "<plotly.tools.PlotlyDisplay object>"
      ]
     },
     "execution_count": 63,
     "metadata": {},
     "output_type": "execute_result"
    }
   ],
   "source": [
    "import plotly.plotly as py\n",
    "import plotly.graph_objs as go\n",
    "\n",
    "data = [go.Scatter(\n",
    "            x=[1,101,201,301,401,501,601,701,801,901],\n",
    "            y=b,\n",
    "            mode='lines+markers',\n",
    "            line=dict(shape='spline')\n",
    "\n",
    "    )]\n",
    "\n",
    "py.iplot(data, filename='spline-interpolation')"
   ]
  },
  {
   "cell_type": "code",
   "execution_count": 60,
   "metadata": {
    "collapsed": false
   },
   "outputs": [
    {
     "data": {
      "image/png": "[encoded data removed]",
      "text/latex": [
       "$$100.999999999998$$"
      ],
      "text/plain": [
       "100.999999999998"
      ]
     },
     "execution_count": 60,
     "metadata": {},
     "output_type": "execute_result"
    }
   ],
   "source": [
    "modifiedExpectedDays(2000000000000000)"
   ]
  },
  {
   "cell_type": "markdown",
   "metadata": {},
   "source": [
    "Converges to 101 just as expected"
   ]
  },
  {
   "cell_type": "markdown",
   "metadata": {},
   "source": [
    "# Simulation Solution"
   ]
  },
  {
   "cell_type": "code",
   "execution_count": 3,
   "metadata": {
    "collapsed": false
   },
   "outputs": [],
   "source": [
    "import numpy as np\n",
    "import plotly\n",
    "import random\n",
    "import sympy\n",
    "from sympy import *\n",
    "init_printing()\n",
    "import plotly"
   ]
  },
  {
   "cell_type": "markdown",
   "metadata": {},
   "source": [
    "## Bottle, Day Zero"
   ]
  },
  {
   "cell_type": "code",
   "execution_count": 22,
   "metadata": {
    "collapsed": true
   },
   "outputs": [],
   "source": [
    "bottle = np.ones(100)"
   ]
  },
  {
   "cell_type": "markdown",
   "metadata": {},
   "source": [
    "## Tablet eject logic"
   ]
  },
  {
   "cell_type": "code",
   "execution_count": 39,
   "metadata": {
    "collapsed": true
   },
   "outputs": [],
   "source": [
    "def takeMedicine(sizeMatters=False, verbose=False):\n",
    "    global bottle\n",
    "    if sizeMatters:\n",
    "        glottle = bottle[bottle > 0.5]\n",
    "        pill = random.choice(np.concatenate((bottle,glottle)))\n",
    "    else:    \n",
    "        pill = random.choice(bottle)\n",
    "    if pill == 1.0:\n",
    "        bottle[np.argmax(bottle==1.0)] = 0.5\n",
    "        if verbose:\n",
    "            print(\"Whole Tablets {}, Half Tablets {}     💊\".format(currentStatus()[0], currentStatus()[1]))\n",
    "        return 1\n",
    "    else:\n",
    "        bottle = np.delete(bottle, np.argmax(bottle==0.5) )\n",
    "        if verbose:\n",
    "            print(\"Whole Tablets {}, Half Tablets {}     🚦 🚥\".format(currentStatus()[0], currentStatus()[1]))\n",
    "        return 0   "
   ]
  },
  {
   "cell_type": "markdown",
   "metadata": {},
   "source": [
    "## Days taken to pull a half-tablet out "
   ]
  },
  {
   "cell_type": "code",
   "execution_count": 6,
   "metadata": {
    "collapsed": true
   },
   "outputs": [],
   "source": [
    "def daysTaken(sizeMatters=False, verbose=False):\n",
    "    global bottle\n",
    "    days = 0\n",
    "    for day in range(1,201):\n",
    "        if takeMedicine(sizeMatters, verbose):\n",
    "            days += 1\n",
    "        else:\n",
    "            bottle = np.ones(100)\n",
    "            break\n",
    "    return days + 1"
   ]
  },
  {
   "cell_type": "markdown",
   "metadata": {},
   "source": [
    "## Average of a million first half-tablet sightings"
   ]
  },
  {
   "cell_type": "code",
   "execution_count": 7,
   "metadata": {
    "collapsed": true
   },
   "outputs": [],
   "source": [
    "def averageDays(sizeMatters=False, verbose=False, numberOfRuns=1000000):\n",
    "    totalDays = 0\n",
    "    for element in range(numberOfRuns):\n",
    "        totalDays += daysTaken(sizeMatters, verbose)       \n",
    "    return totalDays/numberOfRuns      "
   ]
  },
  {
   "cell_type": "markdown",
   "metadata": {},
   "source": [
    "# Results"
   ]
  },
  {
   "cell_type": "markdown",
   "metadata": {},
   "source": [
    "![results](http://linkdot.link/images/runtime.jpeg)"
   ]
  },
  {
   "cell_type": "markdown",
   "metadata": {},
   "source": [
    "##  Extra: Entire State History"
   ]
  },
  {
   "cell_type": "code",
   "execution_count": 20,
   "metadata": {
    "collapsed": true
   },
   "outputs": [],
   "source": [
    "def completeRun():\n",
    "    global bottle\n",
    "    days = 0\n",
    "    for day in range(1,201):       \n",
    "        days += 1\n",
    "        print(\"On Day {}: \".format(days))\n",
    "        takeMedicine(1, 1)\n",
    "    bottle = np.ones(100)    "
   ]
  },
  {
   "cell_type": "code",
   "execution_count": 17,
   "metadata": {
    "collapsed": true
   },
   "outputs": [],
   "source": [
    "def currentStatus(noHalfPills=True, noMorePills=False):\n",
    "    global bottle\n",
    "    unique, counts = np.unique(bottle, return_counts=True)\n",
    "    uniqueCounts = dict(zip(unique, counts))\n",
    "        \n",
    "    try:\n",
    "        numFullPills = uniqueCounts[1.0]\n",
    "    except KeyError:\n",
    "        numFullPills = 0\n",
    "    try:\n",
    "        numHalfPills = uniqueCounts[0.5]\n",
    "    except KeyError:\n",
    "        numHalfPills = 0    \n",
    "    return numFullPills, numHalfPills"
   ]
  },
  {
   "cell_type": "code",
   "execution_count": 40,
   "metadata": {
    "collapsed": false
   },
   "outputs": [
    {
     "name": "stdout",
     "output_type": "stream",
     "text": [
      "On Day 1: \n",
      "Whole Tablets 99, Half Tablets 1     💊\n",
      "On Day 2: \n",
      "Whole Tablets 98, Half Tablets 2     💊\n",
      "On Day 3: \n",
      "Whole Tablets 97, Half Tablets 3     💊\n",
      "On Day 4: \n",
      "Whole Tablets 96, Half Tablets 4     💊\n",
      "On Day 5: \n",
      "Whole Tablets 95, Half Tablets 5     💊\n",
      "On Day 6: \n",
      "Whole Tablets 94, Half Tablets 6     💊\n",
      "On Day 7: \n",
      "Whole Tablets 93, Half Tablets 7     💊\n",
      "On Day 8: \n",
      "Whole Tablets 92, Half Tablets 8     💊\n",
      "On Day 9: \n",
      "Whole Tablets 91, Half Tablets 9     💊\n",
      "On Day 10: \n",
      "Whole Tablets 90, Half Tablets 10     💊\n",
      "On Day 11: \n",
      "Whole Tablets 89, Half Tablets 11     💊\n",
      "On Day 12: \n",
      "Whole Tablets 88, Half Tablets 12     💊\n",
      "On Day 13: \n",
      "Whole Tablets 87, Half Tablets 13     💊\n",
      "On Day 14: \n",
      "Whole Tablets 86, Half Tablets 14     💊\n",
      "On Day 15: \n",
      "Whole Tablets 85, Half Tablets 15     💊\n",
      "On Day 16: \n",
      "Whole Tablets 84, Half Tablets 16     💊\n",
      "On Day 17: \n",
      "Whole Tablets 83, Half Tablets 17     💊\n",
      "On Day 18: \n",
      "Whole Tablets 82, Half Tablets 18     💊\n",
      "On Day 19: \n",
      "Whole Tablets 81, Half Tablets 19     💊\n",
      "On Day 20: \n",
      "Whole Tablets 80, Half Tablets 20     💊\n",
      "On Day 21: \n",
      "Whole Tablets 80, Half Tablets 19     🚦 🚥\n",
      "On Day 22: \n",
      "Whole Tablets 79, Half Tablets 20     💊\n",
      "On Day 23: \n",
      "Whole Tablets 78, Half Tablets 21     💊\n",
      "On Day 24: \n",
      "Whole Tablets 77, Half Tablets 22     💊\n",
      "On Day 25: \n",
      "Whole Tablets 77, Half Tablets 21     🚦 🚥\n",
      "On Day 26: \n",
      "Whole Tablets 76, Half Tablets 22     💊\n",
      "On Day 27: \n",
      "Whole Tablets 75, Half Tablets 23     💊\n",
      "On Day 28: \n",
      "Whole Tablets 75, Half Tablets 22     🚦 🚥\n",
      "On Day 29: \n",
      "Whole Tablets 75, Half Tablets 21     🚦 🚥\n",
      "On Day 30: \n",
      "Whole Tablets 74, Half Tablets 22     💊\n",
      "On Day 31: \n",
      "Whole Tablets 73, Half Tablets 23     💊\n",
      "On Day 32: \n",
      "Whole Tablets 72, Half Tablets 24     💊\n",
      "On Day 33: \n",
      "Whole Tablets 71, Half Tablets 25     💊\n",
      "On Day 34: \n",
      "Whole Tablets 70, Half Tablets 26     💊\n",
      "On Day 35: \n",
      "Whole Tablets 69, Half Tablets 27     💊\n",
      "On Day 36: \n",
      "Whole Tablets 68, Half Tablets 28     💊\n",
      "On Day 37: \n",
      "Whole Tablets 68, Half Tablets 27     🚦 🚥\n",
      "On Day 38: \n",
      "Whole Tablets 67, Half Tablets 28     💊\n",
      "On Day 39: \n",
      "Whole Tablets 66, Half Tablets 29     💊\n",
      "On Day 40: \n",
      "Whole Tablets 65, Half Tablets 30     💊\n",
      "On Day 41: \n",
      "Whole Tablets 64, Half Tablets 31     💊\n",
      "On Day 42: \n",
      "Whole Tablets 63, Half Tablets 32     💊\n",
      "On Day 43: \n",
      "Whole Tablets 62, Half Tablets 33     💊\n",
      "On Day 44: \n",
      "Whole Tablets 61, Half Tablets 34     💊\n",
      "On Day 45: \n",
      "Whole Tablets 61, Half Tablets 33     🚦 🚥\n",
      "On Day 46: \n",
      "Whole Tablets 60, Half Tablets 34     💊\n",
      "On Day 47: \n",
      "Whole Tablets 60, Half Tablets 33     🚦 🚥\n",
      "On Day 48: \n",
      "Whole Tablets 59, Half Tablets 34     💊\n",
      "On Day 49: \n",
      "Whole Tablets 58, Half Tablets 35     💊\n",
      "On Day 50: \n",
      "Whole Tablets 57, Half Tablets 36     💊\n",
      "On Day 51: \n",
      "Whole Tablets 56, Half Tablets 37     💊\n",
      "On Day 52: \n",
      "Whole Tablets 55, Half Tablets 38     💊\n",
      "On Day 53: \n",
      "Whole Tablets 54, Half Tablets 39     💊\n",
      "On Day 54: \n",
      "Whole Tablets 54, Half Tablets 38     🚦 🚥\n",
      "On Day 55: \n",
      "Whole Tablets 53, Half Tablets 39     💊\n",
      "On Day 56: \n",
      "Whole Tablets 53, Half Tablets 38     🚦 🚥\n",
      "On Day 57: \n",
      "Whole Tablets 52, Half Tablets 39     💊\n",
      "On Day 58: \n",
      "Whole Tablets 51, Half Tablets 40     💊\n",
      "On Day 59: \n",
      "Whole Tablets 51, Half Tablets 39     🚦 🚥\n",
      "On Day 60: \n",
      "Whole Tablets 51, Half Tablets 38     🚦 🚥\n",
      "On Day 61: \n",
      "Whole Tablets 50, Half Tablets 39     💊\n",
      "On Day 62: \n",
      "Whole Tablets 50, Half Tablets 38     🚦 🚥\n",
      "On Day 63: \n",
      "Whole Tablets 49, Half Tablets 39     💊\n",
      "On Day 64: \n",
      "Whole Tablets 48, Half Tablets 40     💊\n",
      "On Day 65: \n",
      "Whole Tablets 48, Half Tablets 39     🚦 🚥\n",
      "On Day 66: \n",
      "Whole Tablets 47, Half Tablets 40     💊\n",
      "On Day 67: \n",
      "Whole Tablets 47, Half Tablets 39     🚦 🚥\n",
      "On Day 68: \n",
      "Whole Tablets 46, Half Tablets 40     💊\n",
      "On Day 69: \n",
      "Whole Tablets 46, Half Tablets 39     🚦 🚥\n",
      "On Day 70: \n",
      "Whole Tablets 46, Half Tablets 38     🚦 🚥\n",
      "On Day 71: \n",
      "Whole Tablets 46, Half Tablets 37     🚦 🚥\n",
      "On Day 72: \n",
      "Whole Tablets 46, Half Tablets 36     🚦 🚥\n",
      "On Day 73: \n",
      "Whole Tablets 45, Half Tablets 37     💊\n",
      "On Day 74: \n",
      "Whole Tablets 44, Half Tablets 38     💊\n",
      "On Day 75: \n",
      "Whole Tablets 43, Half Tablets 39     💊\n",
      "On Day 76: \n",
      "Whole Tablets 42, Half Tablets 40     💊\n",
      "On Day 77: \n",
      "Whole Tablets 41, Half Tablets 41     💊\n",
      "On Day 78: \n",
      "Whole Tablets 40, Half Tablets 42     💊\n",
      "On Day 79: \n",
      "Whole Tablets 39, Half Tablets 43     💊\n",
      "On Day 80: \n",
      "Whole Tablets 38, Half Tablets 44     💊\n",
      "On Day 81: \n",
      "Whole Tablets 38, Half Tablets 43     🚦 🚥\n",
      "On Day 82: \n",
      "Whole Tablets 37, Half Tablets 44     💊\n",
      "On Day 83: \n",
      "Whole Tablets 36, Half Tablets 45     💊\n",
      "On Day 84: \n",
      "Whole Tablets 36, Half Tablets 44     🚦 🚥\n",
      "On Day 85: \n",
      "Whole Tablets 35, Half Tablets 45     💊\n",
      "On Day 86: \n",
      "Whole Tablets 35, Half Tablets 44     🚦 🚥\n",
      "On Day 87: \n",
      "Whole Tablets 35, Half Tablets 43     🚦 🚥\n",
      "On Day 88: \n",
      "Whole Tablets 35, Half Tablets 42     🚦 🚥\n",
      "On Day 89: \n",
      "Whole Tablets 34, Half Tablets 43     💊\n",
      "On Day 90: \n",
      "Whole Tablets 34, Half Tablets 42     🚦 🚥\n",
      "On Day 91: \n",
      "Whole Tablets 33, Half Tablets 43     💊\n",
      "On Day 92: \n",
      "Whole Tablets 32, Half Tablets 44     💊\n",
      "On Day 93: \n",
      "Whole Tablets 32, Half Tablets 43     🚦 🚥\n",
      "On Day 94: \n",
      "Whole Tablets 32, Half Tablets 42     🚦 🚥\n",
      "On Day 95: \n",
      "Whole Tablets 32, Half Tablets 41     🚦 🚥\n",
      "On Day 96: \n",
      "Whole Tablets 31, Half Tablets 42     💊\n",
      "On Day 97: \n",
      "Whole Tablets 30, Half Tablets 43     💊\n",
      "On Day 98: \n",
      "Whole Tablets 30, Half Tablets 42     🚦 🚥\n",
      "On Day 99: \n",
      "Whole Tablets 29, Half Tablets 43     💊\n",
      "On Day 100: \n",
      "Whole Tablets 29, Half Tablets 42     🚦 🚥\n",
      "On Day 101: \n",
      "Whole Tablets 28, Half Tablets 43     💊\n",
      "On Day 102: \n",
      "Whole Tablets 28, Half Tablets 42     🚦 🚥\n",
      "On Day 103: \n",
      "Whole Tablets 27, Half Tablets 43     💊\n",
      "On Day 104: \n",
      "Whole Tablets 27, Half Tablets 42     🚦 🚥\n",
      "On Day 105: \n",
      "Whole Tablets 26, Half Tablets 43     💊\n",
      "On Day 106: \n",
      "Whole Tablets 25, Half Tablets 44     💊\n",
      "On Day 107: \n",
      "Whole Tablets 25, Half Tablets 43     🚦 🚥\n",
      "On Day 108: \n",
      "Whole Tablets 24, Half Tablets 44     💊\n",
      "On Day 109: \n",
      "Whole Tablets 24, Half Tablets 43     🚦 🚥\n",
      "On Day 110: \n",
      "Whole Tablets 24, Half Tablets 42     🚦 🚥\n",
      "On Day 111: \n",
      "Whole Tablets 24, Half Tablets 41     🚦 🚥\n",
      "On Day 112: \n",
      "Whole Tablets 23, Half Tablets 42     💊\n",
      "On Day 113: \n",
      "Whole Tablets 22, Half Tablets 43     💊\n",
      "On Day 114: \n",
      "Whole Tablets 22, Half Tablets 42     🚦 🚥\n",
      "On Day 115: \n",
      "Whole Tablets 21, Half Tablets 43     💊\n",
      "On Day 116: \n",
      "Whole Tablets 20, Half Tablets 44     💊\n",
      "On Day 117: \n",
      "Whole Tablets 20, Half Tablets 43     🚦 🚥\n",
      "On Day 118: \n",
      "Whole Tablets 19, Half Tablets 44     💊\n",
      "On Day 119: \n",
      "Whole Tablets 18, Half Tablets 45     💊\n",
      "On Day 120: \n",
      "Whole Tablets 17, Half Tablets 46     💊\n",
      "On Day 121: \n",
      "Whole Tablets 17, Half Tablets 45     🚦 🚥\n",
      "On Day 122: \n",
      "Whole Tablets 17, Half Tablets 44     🚦 🚥\n",
      "On Day 123: \n",
      "Whole Tablets 16, Half Tablets 45     💊\n",
      "On Day 124: \n",
      "Whole Tablets 15, Half Tablets 46     💊\n",
      "On Day 125: \n",
      "Whole Tablets 14, Half Tablets 47     💊\n",
      "On Day 126: \n",
      "Whole Tablets 13, Half Tablets 48     💊\n",
      "On Day 127: \n",
      "Whole Tablets 13, Half Tablets 47     🚦 🚥\n",
      "On Day 128: \n",
      "Whole Tablets 13, Half Tablets 46     🚦 🚥\n",
      "On Day 129: \n",
      "Whole Tablets 13, Half Tablets 45     🚦 🚥\n",
      "On Day 130: \n",
      "Whole Tablets 13, Half Tablets 44     🚦 🚥\n",
      "On Day 131: \n",
      "Whole Tablets 12, Half Tablets 45     💊\n",
      "On Day 132: \n",
      "Whole Tablets 11, Half Tablets 46     💊\n",
      "On Day 133: \n",
      "Whole Tablets 11, Half Tablets 45     🚦 🚥\n",
      "On Day 134: \n",
      "Whole Tablets 11, Half Tablets 44     🚦 🚥\n",
      "On Day 135: \n",
      "Whole Tablets 11, Half Tablets 43     🚦 🚥\n",
      "On Day 136: \n",
      "Whole Tablets 11, Half Tablets 42     🚦 🚥\n",
      "On Day 137: \n",
      "Whole Tablets 11, Half Tablets 41     🚦 🚥\n",
      "On Day 138: \n",
      "Whole Tablets 11, Half Tablets 40     🚦 🚥\n",
      "On Day 139: \n",
      "Whole Tablets 11, Half Tablets 39     🚦 🚥\n",
      "On Day 140: \n",
      "Whole Tablets 11, Half Tablets 38     🚦 🚥\n",
      "On Day 141: \n",
      "Whole Tablets 10, Half Tablets 39     💊\n",
      "On Day 142: \n",
      "Whole Tablets 9, Half Tablets 40     💊\n",
      "On Day 143: \n",
      "Whole Tablets 9, Half Tablets 39     🚦 🚥\n",
      "On Day 144: \n",
      "Whole Tablets 8, Half Tablets 40     💊\n",
      "On Day 145: \n",
      "Whole Tablets 8, Half Tablets 39     🚦 🚥\n",
      "On Day 146: \n",
      "Whole Tablets 8, Half Tablets 38     🚦 🚥\n",
      "On Day 147: \n",
      "Whole Tablets 8, Half Tablets 37     🚦 🚥\n",
      "On Day 148: \n",
      "Whole Tablets 8, Half Tablets 36     🚦 🚥\n",
      "On Day 149: \n",
      "Whole Tablets 7, Half Tablets 37     💊\n",
      "On Day 150: \n",
      "Whole Tablets 6, Half Tablets 38     💊\n",
      "On Day 151: \n",
      "Whole Tablets 5, Half Tablets 39     💊\n",
      "On Day 152: \n",
      "Whole Tablets 5, Half Tablets 38     🚦 🚥\n",
      "On Day 153: \n",
      "Whole Tablets 4, Half Tablets 39     💊\n",
      "On Day 154: \n",
      "Whole Tablets 3, Half Tablets 40     💊\n",
      "On Day 155: \n",
      "Whole Tablets 3, Half Tablets 39     🚦 🚥\n",
      "On Day 156: \n",
      "Whole Tablets 3, Half Tablets 38     🚦 🚥\n",
      "On Day 157: \n",
      "Whole Tablets 3, Half Tablets 37     🚦 🚥\n",
      "On Day 158: \n",
      "Whole Tablets 3, Half Tablets 36     🚦 🚥\n",
      "On Day 159: \n",
      "Whole Tablets 3, Half Tablets 35     🚦 🚥\n",
      "On Day 160: \n",
      "Whole Tablets 3, Half Tablets 34     🚦 🚥\n",
      "On Day 161: \n",
      "Whole Tablets 3, Half Tablets 33     🚦 🚥\n",
      "On Day 162: \n",
      "Whole Tablets 3, Half Tablets 32     🚦 🚥\n",
      "On Day 163: \n",
      "Whole Tablets 3, Half Tablets 31     🚦 🚥\n",
      "On Day 164: \n",
      "Whole Tablets 3, Half Tablets 30     🚦 🚥\n",
      "On Day 165: \n",
      "Whole Tablets 3, Half Tablets 29     🚦 🚥\n",
      "On Day 166: \n",
      "Whole Tablets 3, Half Tablets 28     🚦 🚥\n",
      "On Day 167: \n",
      "Whole Tablets 2, Half Tablets 29     💊\n",
      "On Day 168: \n",
      "Whole Tablets 2, Half Tablets 28     🚦 🚥\n",
      "On Day 169: \n",
      "Whole Tablets 2, Half Tablets 27     🚦 🚥\n",
      "On Day 170: \n",
      "Whole Tablets 2, Half Tablets 26     🚦 🚥\n",
      "On Day 171: \n",
      "Whole Tablets 1, Half Tablets 27     💊\n",
      "On Day 172: \n",
      "Whole Tablets 1, Half Tablets 26     🚦 🚥\n",
      "On Day 173: \n",
      "Whole Tablets 1, Half Tablets 25     🚦 🚥\n",
      "On Day 174: \n",
      "Whole Tablets 1, Half Tablets 24     🚦 🚥\n",
      "On Day 175: \n",
      "Whole Tablets 1, Half Tablets 23     🚦 🚥\n",
      "On Day 176: \n",
      "Whole Tablets 1, Half Tablets 22     🚦 🚥\n",
      "On Day 177: \n",
      "Whole Tablets 1, Half Tablets 21     🚦 🚥\n",
      "On Day 178: \n",
      "Whole Tablets 0, Half Tablets 22     💊\n",
      "On Day 179: \n",
      "Whole Tablets 0, Half Tablets 21     🚦 🚥\n",
      "On Day 180: \n",
      "Whole Tablets 0, Half Tablets 20     🚦 🚥\n",
      "On Day 181: \n",
      "Whole Tablets 0, Half Tablets 19     🚦 🚥\n",
      "On Day 182: \n",
      "Whole Tablets 0, Half Tablets 18     🚦 🚥\n",
      "On Day 183: \n",
      "Whole Tablets 0, Half Tablets 17     🚦 🚥\n",
      "On Day 184: \n",
      "Whole Tablets 0, Half Tablets 16     🚦 🚥\n",
      "On Day 185: \n",
      "Whole Tablets 0, Half Tablets 15     🚦 🚥\n",
      "On Day 186: \n",
      "Whole Tablets 0, Half Tablets 14     🚦 🚥\n",
      "On Day 187: \n",
      "Whole Tablets 0, Half Tablets 13     🚦 🚥\n",
      "On Day 188: \n",
      "Whole Tablets 0, Half Tablets 12     🚦 🚥\n",
      "On Day 189: \n",
      "Whole Tablets 0, Half Tablets 11     🚦 🚥\n",
      "On Day 190: \n",
      "Whole Tablets 0, Half Tablets 10     🚦 🚥\n",
      "On Day 191: \n",
      "Whole Tablets 0, Half Tablets 9     🚦 🚥\n",
      "On Day 192: \n",
      "Whole Tablets 0, Half Tablets 8     🚦 🚥\n",
      "On Day 193: \n",
      "Whole Tablets 0, Half Tablets 7     🚦 🚥\n",
      "On Day 194: \n",
      "Whole Tablets 0, Half Tablets 6     🚦 🚥\n",
      "On Day 195: \n",
      "Whole Tablets 0, Half Tablets 5     🚦 🚥\n",
      "On Day 196: \n",
      "Whole Tablets 0, Half Tablets 4     🚦 🚥\n",
      "On Day 197: \n",
      "Whole Tablets 0, Half Tablets 3     🚦 🚥\n",
      "On Day 198: \n",
      "Whole Tablets 0, Half Tablets 2     🚦 🚥\n",
      "On Day 199: \n",
      "Whole Tablets 0, Half Tablets 1     🚦 🚥\n",
      "On Day 200: \n",
      "Whole Tablets 0, Half Tablets 0     🚦 🚥\n"
     ]
    }
   ],
   "source": [
    "completeRun()"
   ]
  }
 ],
 "metadata": {
  "anaconda-cloud": {},
  "kernelspec": {
   "display_name": "Python [conda root]",
   "language": "python",
   "name": "conda-root-py"
  }
 },
 "nbformat": 4,
 "nbformat_minor": 1
}
