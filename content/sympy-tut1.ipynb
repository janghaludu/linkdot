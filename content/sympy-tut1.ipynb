{
 "cells": [
  {
   "cell_type": "markdown",
   "metadata": {},
   "source": [
    "\n",
    "\n",
    "### SymPy\n",
    "\n",
    "`SymPy` is a package for symbolic calculations in python, similar to *Mathematica*. It works with expressions containing symbols."
   ]
  },
  {
   "cell_type": "code",
   "execution_count": 7,
   "metadata": {
    "collapsed": true
   },
   "outputs": [],
   "source": [
    "from sympy import *\n",
    "init_printing()"
   ]
  },
  {
   "cell_type": "markdown",
   "metadata": {},
   "source": [
    "Symbols are basic bricks used to construct expressions.\n",
    "Each symbol has a name used for printing expressions. Objects of the class `Symbol` should be created and assigned to python variables in order to be used in expressions. The symbol name and the name of the variable to which this symbol is assigned are two independent things, and one may write `abc=Symbol('xyz')`. But then one has to write `abc` in input expressions, while `SymPy` will write `xyz` in output ones, producing unnecessary confusion. The python variable name should better be the same as the symbol name.\n",
    "\n",
    "In languages specifically designed for symbolic calculations, such as *Mathematica*, if a variable to which nothing has been assigned is used, it automatically means a symbol with the same name. Python has not been designed for symbolic calculations. If you use a variable to which nothing has been assigned, you will get an error message. Symbol objects have to be created explicitly."
   ]
  },
  {
   "cell_type": "code",
   "execution_count": 8,
   "metadata": {
    "collapsed": false
   },
   "outputs": [
    {
     "data": {
      "image/png": "[encoded data removed]",
      "text/latex": [
       "$$x^{2} - 1$$"
      ],
      "text/plain": [
       " 2    \n",
       "x  - 1"
      ]
     },
     "execution_count": 8,
     "metadata": {},
     "output_type": "execute_result"
    }
   ],
   "source": [
    "x=Symbol('x')\n",
    "a=x**2-1\n",
    "a"
   ]
  },
  {
   "cell_type": "markdown",
   "metadata": {},
   "source": [
    "Several symbols can be defined at once. The string is split at spaces."
   ]
  },
  {
   "cell_type": "code",
   "execution_count": 9,
   "metadata": {
    "collapsed": true
   },
   "outputs": [],
   "source": [
    "y,z=symbols('y z')"
   ]
  },
  {
   "cell_type": "markdown",
   "metadata": {},
   "source": [
    "Let's substitute $y+1$ for $x$."
   ]
  },
  {
   "cell_type": "code",
   "execution_count": 10,
   "metadata": {
    "collapsed": false
   },
   "outputs": [
    {
     "data": {
      "image/png": "[encoded data removed]",
      "text/latex": [
       "$$\\left(y + 1\\right)^{2} - 1$$"
      ],
      "text/plain": [
       "       2    \n",
       "(y + 1)  - 1"
      ]
     },
     "execution_count": 10,
     "metadata": {},
     "output_type": "execute_result"
    }
   ],
   "source": [
    "a.subs(x,y+1)"
   ]
  },
  {
   "cell_type": "markdown",
   "metadata": {},
   "source": [
    "### Polynomials and rational functions\n",
    "\n",
    "`SymPy` does not expand brackets automatically. The function `expand` is used for this."
   ]
  },
  {
   "cell_type": "code",
   "execution_count": 12,
   "metadata": {
    "collapsed": false
   },
   "outputs": [
    {
     "data": {
      "image/png": "[encoded data removed]",
      "text/latex": [
       "$$\\left(x + y - z\\right)^{2}$$"
      ],
      "text/plain": [
       "           2\n",
       "(x + y - z) "
      ]
     },
     "execution_count": 12,
     "metadata": {},
     "output_type": "execute_result"
    }
   ],
   "source": [
    "a=(x+y-z)**2\n",
    "a"
   ]
  },
  {
   "cell_type": "code",
   "execution_count": 13,
   "metadata": {
    "collapsed": false
   },
   "outputs": [
    {
     "data": {
      "image/png": "[encoded data removed]",
      "text/latex": [
       "$$x^{2} + 2 x y - 2 x z + y^{2} - 2 y z + z^{2}$$"
      ],
      "text/plain": [
       " 2                    2            2\n",
       "x  + 2⋅x⋅y - 2⋅x⋅z + y  - 2⋅y⋅z + z "
      ]
     },
     "execution_count": 13,
     "metadata": {},
     "output_type": "execute_result"
    }
   ],
   "source": [
    "a=expand(a)\n",
    "a"
   ]
  },
  {
   "cell_type": "markdown",
   "metadata": {},
   "source": [
    "Degree of the polynomial $a$ in $x$."
   ]
  },
  {
   "cell_type": "code",
   "execution_count": 14,
   "metadata": {
    "collapsed": false
   },
   "outputs": [
    {
     "data": {
      "image/png": "[encoded data removed]",
      "text/latex": [
       "$$2$$"
      ],
      "text/plain": [
       "2"
      ]
     },
     "execution_count": 14,
     "metadata": {},
     "output_type": "execute_result"
    }
   ],
   "source": [
    "degree(a,x)"
   ]
  },
  {
   "cell_type": "markdown",
   "metadata": {},
   "source": [
    "Let's collect terms with same power of $x$ together."
   ]
  },
  {
   "cell_type": "code",
   "execution_count": 15,
   "metadata": {
    "collapsed": false
   },
   "outputs": [
    {
     "data": {
      "image/png": "[encoded data removed]",
      "text/latex": [
       "$$x^{2} + x \\left(2 y - 2 z\\right) + y^{2} - 2 y z + z^{2}$$"
      ],
      "text/plain": [
       " 2                    2            2\n",
       "x  + x⋅(2⋅y - 2⋅z) + y  - 2⋅y⋅z + z "
      ]
     },
     "execution_count": 15,
     "metadata": {},
     "output_type": "execute_result"
    }
   ],
   "source": [
    "collect(a,x)"
   ]
  },
  {
   "cell_type": "markdown",
   "metadata": {},
   "source": [
    "Any polynomial with integer coefficients can be factorized into polynomials with integer coefficients (which cannot be factorized further). There exist efficient algorithms to do this."
   ]
  },
  {
   "cell_type": "code",
   "execution_count": 17,
   "metadata": {
    "collapsed": false
   },
   "outputs": [
    {
     "data": {
      "image/png": "[encoded data removed]",
      "text/latex": [
       "$$\\left(x + y - z\\right)^{2}$$"
      ],
      "text/plain": [
       "           2\n",
       "(x + y - z) "
      ]
     },
     "execution_count": 17,
     "metadata": {},
     "output_type": "execute_result"
    }
   ],
   "source": [
    "a=factor(a)\n",
    "a"
   ]
  },
  {
   "cell_type": "markdown",
   "metadata": {},
   "source": [
    "`SymPy` does not automatically cancel ratios of polynomials by their greatest common divisor. The function `cancel` is used for this."
   ]
  },
  {
   "cell_type": "code",
   "execution_count": 18,
   "metadata": {
    "collapsed": false
   },
   "outputs": [
    {
     "data": {
      "image/png": "[encoded data removed]",
      "text/latex": [
       "$$\\frac{x^{3} - y^{3}}{x^{2} - y^{2}}$$"
      ],
      "text/plain": [
       " 3    3\n",
       "x  - y \n",
       "───────\n",
       " 2    2\n",
       "x  - y "
      ]
     },
     "execution_count": 18,
     "metadata": {},
     "output_type": "execute_result"
    }
   ],
   "source": [
    "a=(x**3-y**3)/(x**2-y**2)\n",
    "a"
   ]
  },
  {
   "cell_type": "code",
   "execution_count": 19,
   "metadata": {
    "collapsed": false
   },
   "outputs": [
    {
     "data": {
      "image/png": "[encoded data removed]",
      "text/latex": [
       "$$\\frac{x^{2} + x y + y^{2}}{x + y}$$"
      ],
      "text/plain": [
       " 2          2\n",
       "x  + x⋅y + y \n",
       "─────────────\n",
       "    x + y    "
      ]
     },
     "execution_count": 19,
     "metadata": {},
     "output_type": "execute_result"
    }
   ],
   "source": [
    "cancel(a)"
   ]
  },
  {
   "cell_type": "markdown",
   "metadata": {},
   "source": [
    "`SymPy` does not automatically bring sums of rational expressions to common denominator. The function `together` is used for this."
   ]
  },
  {
   "cell_type": "code",
   "execution_count": 20,
   "metadata": {
    "collapsed": false
   },
   "outputs": [
    {
     "data": {
      "image/png": "[encoded data removed]",
      "text/latex": [
       "$$\\frac{x}{x + y} + \\frac{y}{x - y}$$"
      ],
      "text/plain": [
       "  x       y  \n",
       "───── + ─────\n",
       "x + y   x - y"
      ]
     },
     "execution_count": 20,
     "metadata": {},
     "output_type": "execute_result"
    }
   ],
   "source": [
    "a=y/(x-y)+x/(x+y)\n",
    "a"
   ]
  },
  {
   "cell_type": "code",
   "execution_count": 21,
   "metadata": {
    "collapsed": false
   },
   "outputs": [
    {
     "data": {
      "image/png": "[encoded data removed]",
      "text/latex": [
       "$$\\frac{x \\left(x - y\\right) + y \\left(x + y\\right)}{\\left(x - y\\right) \\left(x + y\\right)}$$"
      ],
      "text/plain": [
       "x⋅(x - y) + y⋅(x + y)\n",
       "─────────────────────\n",
       "   (x - y)⋅(x + y)   "
      ]
     },
     "execution_count": 21,
     "metadata": {},
     "output_type": "execute_result"
    }
   ],
   "source": [
    "together(a)"
   ]
  },
  {
   "cell_type": "markdown",
   "metadata": {},
   "source": [
    "The function `simplify` tries to rewrite an expression *in a simplest form*. This concept is not well defined (different forms may be considered simplest in different contexts), and there exists no algorithm for such simplification. The function `simplify` works heuristically, and it is not possible to guess in advance what simplifications it will try. It is very convenient in interactive sessions in order to check if it will succeed in rewriting an expression in some reasonably good form. But it is not desirable to use it in programs. There one should better use more specialized functions which perform well defined expression transformations."
   ]
  },
  {
   "cell_type": "code",
   "execution_count": 22,
   "metadata": {
    "collapsed": false
   },
   "outputs": [
    {
     "data": {
      "image/png": "[encoded data removed]",
      "text/latex": [
       "$$\\frac{x^{2} + y^{2}}{x^{2} - y^{2}}$$"
      ],
      "text/plain": [
       " 2    2\n",
       "x  + y \n",
       "───────\n",
       " 2    2\n",
       "x  - y "
      ]
     },
     "execution_count": 22,
     "metadata": {},
     "output_type": "execute_result"
    }
   ],
   "source": [
    "simplify(a)"
   ]
  },
  {
   "cell_type": "markdown",
   "metadata": {},
   "source": [
    "Partial fraction decomposition with respect to $x$."
   ]
  },
  {
   "cell_type": "code",
   "execution_count": 23,
   "metadata": {
    "collapsed": false
   },
   "outputs": [
    {
     "data": {
      "image/png": "[encoded data removed]",
      "text/latex": [
       "$$- \\frac{y}{x + y} + \\frac{y}{x - y} + 1$$"
      ],
      "text/plain": [
       "    y       y      \n",
       "- ───── + ───── + 1\n",
       "  x + y   x - y    "
      ]
     },
     "execution_count": 23,
     "metadata": {},
     "output_type": "execute_result"
    }
   ],
   "source": [
    "apart(a,x)"
   ]
  },
  {
   "cell_type": "markdown",
   "metadata": {},
   "source": [
    "Let's substitute some values for the symbols $x$ and $y$."
   ]
  },
  {
   "cell_type": "code",
   "execution_count": 24,
   "metadata": {
    "collapsed": false
   },
   "outputs": [
    {
     "data": {
      "image/png": "[encoded data removed]",
      "text/latex": [
       "$$- \\frac{5}{3}$$"
      ],
      "text/plain": [
       "-5/3"
      ]
     },
     "execution_count": 24,
     "metadata": {},
     "output_type": "execute_result"
    }
   ],
   "source": [
    "a=a.subs({x:1,y:2})\n",
    "a"
   ]
  },
  {
   "cell_type": "markdown",
   "metadata": {},
   "source": [
    "And how much is it numerically?"
   ]
  },
  {
   "cell_type": "code",
   "execution_count": 27,
   "metadata": {
    "collapsed": false
   },
   "outputs": [
    {
     "data": {
      "image/png": "[encoded data removed]",
      "text/latex": [
       "$$-1.66666666666667$$"
      ],
      "text/plain": [
       "-1.66666666666667"
      ]
     },
     "execution_count": 27,
     "metadata": {},
     "output_type": "execute_result"
    }
   ],
   "source": [
    "a.n()"
   ]
  },
  {
   "cell_type": "code",
   "execution_count": 25,
   "metadata": {
    "collapsed": false
   },
   "outputs": [
    {
     "data": {
      "image/png": "[encoded data removed]",
      "text/latex": [
       "$$\\mathrm{False}$$"
      ],
      "text/plain": [
       "False"
      ]
     },
     "execution_count": 25,
     "metadata": {},
     "output_type": "execute_result"
    }
   ],
   "source": [
    "a.subs({x:1,y:2}) > a.subs({x:2,y:1})"
   ]
  },
  {
   "cell_type": "markdown",
   "metadata": {},
   "source": [
    "## Elementary functions\n",
    "\n",
    "`SymPy` automatically applies simplifications of elementary functions which are correct everywhere."
   ]
  },
  {
   "cell_type": "code",
   "execution_count": 28,
   "metadata": {
    "collapsed": false
   },
   "outputs": [
    {
     "data": {
      "image/png": "[encoded data removed]",
      "text/latex": [
       "$$- \\sin{\\left (x \\right )}$$"
      ],
      "text/plain": [
       "-sin(x)"
      ]
     },
     "execution_count": 28,
     "metadata": {},
     "output_type": "execute_result"
    }
   ],
   "source": [
    "sin(-x)"
   ]
  },
  {
   "cell_type": "code",
   "execution_count": 29,
   "metadata": {
    "collapsed": false
   },
   "outputs": [
    {
     "data": {
      "image/png": "[encoded data removed]",
      "text/latex": [
       "$$\\left ( \\frac{\\sqrt{2}}{2}, \\quad - \\frac{\\sqrt{3}}{3}\\right )$$"
      ],
      "text/plain": [
       "⎛√2  -√3 ⎞\n",
       "⎜──, ────⎟\n",
       "⎝2    3  ⎠"
      ]
     },
     "execution_count": 29,
     "metadata": {},
     "output_type": "execute_result"
    }
   ],
   "source": [
    "cos(pi/4),tan(5*pi/6)"
   ]
  },
  {
   "cell_type": "markdown",
   "metadata": {},
   "source": [
    "`SymPy` can work with floating point numbers having arbitrarily high precision. Here is $\\pi$ with 30 significant digits."
   ]
  },
  {
   "cell_type": "code",
   "execution_count": 30,
   "metadata": {
    "collapsed": false
   },
   "outputs": [
    {
     "data": {
      "image/png": "[encoded data removed]",
      "text/latex": [
       "$$3.14159265358979323846264338328$$"
      ],
      "text/plain": [
       "3.14159265358979323846264338328"
      ]
     },
     "execution_count": 30,
     "metadata": {},
     "output_type": "execute_result"
    }
   ],
   "source": [
    "pi.n(30)"
   ]
  },
  {
   "cell_type": "markdown",
   "metadata": {},
   "source": [
    "`E` is the base of natural logarithms."
   ]
  },
  {
   "cell_type": "code",
   "execution_count": 31,
   "metadata": {
    "collapsed": false
   },
   "outputs": [
    {
     "data": {
      "image/png": "[encoded data removed]",
      "text/latex": [
       "$$\\left ( 0, \\quad 1\\right )$$"
      ],
      "text/plain": [
       "(0, 1)"
      ]
     },
     "execution_count": 31,
     "metadata": {},
     "output_type": "execute_result"
    }
   ],
   "source": [
    "log(1),log(E)"
   ]
  },
  {
   "cell_type": "code",
   "execution_count": 32,
   "metadata": {
    "collapsed": false
   },
   "outputs": [
    {
     "data": {
      "image/png": "[encoded data removed]",
      "text/latex": [
       "$$\\left ( x, \\quad \\log{\\left (e^{x} \\right )}\\right )$$"
      ],
      "text/plain": [
       "⎛      ⎛ x⎞⎞\n",
       "⎝x, log⎝ℯ ⎠⎠"
      ]
     },
     "execution_count": 32,
     "metadata": {},
     "output_type": "execute_result"
    }
   ],
   "source": [
    "exp(log(x)),log(exp(x))"
   ]
  },
  {
   "cell_type": "markdown",
   "metadata": {},
   "source": [
    "Why not $x$? Try $x=2\\pi i$."
   ]
  },
  {
   "cell_type": "code",
   "execution_count": 33,
   "metadata": {
    "collapsed": false
   },
   "outputs": [
    {
     "data": {
      "image/png": "[encoded data removed]",
      "text/latex": [
       "$$0$$"
      ],
      "text/plain": [
       "0"
      ]
     },
     "execution_count": 33,
     "metadata": {},
     "output_type": "execute_result"
    }
   ],
   "source": [
    "sqrt(0)"
   ]
  },
  {
   "cell_type": "code",
   "execution_count": 34,
   "metadata": {
    "collapsed": false
   },
   "outputs": [
    {
     "data": {
      "image/png": "[encoded data removed]",
      "text/latex": [
       "$$\\left ( x^{2}, \\quad \\sqrt{x^{4}}\\right )$$"
      ],
      "text/plain": [
       "⎛       ____⎞\n",
       "⎜ 2    ╱  4 ⎟\n",
       "⎝x , ╲╱  x  ⎠"
      ]
     },
     "execution_count": 34,
     "metadata": {},
     "output_type": "execute_result"
    }
   ],
   "source": [
    "sqrt(x)**4,sqrt(x**4)"
   ]
  },
  {
   "cell_type": "markdown",
   "metadata": {},
   "source": [
    "Why not $x^2$? Try $x=i$.\n",
    "\n",
    "Symbols can have certain properties. E.g., they can be positive. Then `SymPy` can simplify square roots better."
   ]
  },
  {
   "cell_type": "code",
   "execution_count": 35,
   "metadata": {
    "collapsed": false
   },
   "outputs": [
    {
     "data": {
      "image/png": "[encoded data removed]",
      "text/latex": [
       "$$p$$"
      ],
      "text/plain": [
       "p"
      ]
     },
     "execution_count": 35,
     "metadata": {},
     "output_type": "execute_result"
    }
   ],
   "source": [
    "p,q=symbols('p q',positive=True)\n",
    "sqrt(p**2)"
   ]
  },
  {
   "cell_type": "code",
   "execution_count": 36,
   "metadata": {
    "collapsed": false
   },
   "outputs": [
    {
     "data": {
      "image/png": "[encoded data removed]",
      "text/latex": [
       "$$\\left ( 2 \\sqrt{3} \\sqrt{x^{2} y}, \\quad 2 \\sqrt{3} p \\sqrt{y}\\right )$$"
      ],
      "text/plain": [
       "⎛        ______           ⎞\n",
       "⎜       ╱  2              ⎟\n",
       "⎝2⋅√3⋅╲╱  x ⋅y , 2⋅√3⋅p⋅√y⎠"
      ]
     },
     "execution_count": 36,
     "metadata": {},
     "output_type": "execute_result"
    }
   ],
   "source": [
    "sqrt(12*x**2*y),sqrt(12*p**2*y)"
   ]
  },
  {
   "cell_type": "markdown",
   "metadata": {},
   "source": [
    "Let the symbol $n$ be integer (`I` is the imaginary unit)."
   ]
  },
  {
   "cell_type": "code",
   "execution_count": 37,
   "metadata": {
    "collapsed": false
   },
   "outputs": [
    {
     "data": {
      "image/png": "[encoded data removed]",
      "text/latex": [
       "$$e^{2 i \\pi n}$$"
      ],
      "text/plain": [
       " 2⋅ⅈ⋅π⋅n\n",
       "ℯ       "
      ]
     },
     "execution_count": 37,
     "metadata": {},
     "output_type": "execute_result"
    }
   ],
   "source": [
    "n=Symbol('n',integer=True)\n",
    "exp(2*pi*I*n)"
   ]
  },
  {
   "cell_type": "markdown",
   "metadata": {},
   "source": [
    "The method `rewrite` tries to rewrite an expression in terms of a given function."
   ]
  },
  {
   "cell_type": "code",
   "execution_count": 38,
   "metadata": {
    "collapsed": false
   },
   "outputs": [
    {
     "data": {
      "image/png": "[encoded data removed]",
      "text/latex": [
       "$$\\left ( \\frac{e^{i x}}{2} + \\frac{1}{2} e^{- i x}, \\quad i \\sin{\\left (x \\right )} + \\cos{\\left (x \\right )}\\right )$$"
      ],
      "text/plain": [
       "⎛ ⅈ⋅x    -ⅈ⋅x                   ⎞\n",
       "⎜ℯ      ℯ                       ⎟\n",
       "⎜──── + ─────, ⅈ⋅sin(x) + cos(x)⎟\n",
       "⎝ 2       2                     ⎠"
      ]
     },
     "execution_count": 38,
     "metadata": {},
     "output_type": "execute_result"
    }
   ],
   "source": [
    "cos(x).rewrite(exp),exp(I*x).rewrite(cos)"
   ]
  },
  {
   "cell_type": "code",
   "execution_count": 39,
   "metadata": {
    "collapsed": false
   },
   "outputs": [
    {
     "data": {
      "image/png": "[encoded data removed]",
      "text/latex": [
       "$$- i \\log{\\left (i x + \\sqrt{- x^{2} + 1} \\right )}$$"
      ],
      "text/plain": [
       "      ⎛         __________⎞\n",
       "      ⎜        ╱    2     ⎟\n",
       "-ⅈ⋅log⎝ⅈ⋅x + ╲╱  - x  + 1 ⎠"
      ]
     },
     "execution_count": 39,
     "metadata": {},
     "output_type": "execute_result"
    }
   ],
   "source": [
    "asin(x).rewrite(log)"
   ]
  },
  {
   "cell_type": "markdown",
   "metadata": {},
   "source": [
    "The function `trigsimp` tries to rewrite a trigonometric expression *in a simplest form*. In programs it is better to use more specialized functions."
   ]
  },
  {
   "cell_type": "code",
   "execution_count": 40,
   "metadata": {
    "collapsed": false
   },
   "outputs": [
    {
     "data": {
      "image/png": "[encoded data removed]",
      "text/latex": [
       "$$\\cos^{2}{\\left (x \\right )} + 2$$"
      ],
      "text/plain": [
       "   2       \n",
       "cos (x) + 2"
      ]
     },
     "execution_count": 40,
     "metadata": {},
     "output_type": "execute_result"
    }
   ],
   "source": [
    "trigsimp(2*sin(x)**2+3*cos(x)**2)"
   ]
  },
  {
   "cell_type": "markdown",
   "metadata": {},
   "source": [
    "The function `expand_trig` expands sines and cosines of sums and multiple angles."
   ]
  },
  {
   "cell_type": "code",
   "execution_count": 41,
   "metadata": {
    "collapsed": false
   },
   "outputs": [
    {
     "data": {
      "image/png": "[encoded data removed]",
      "text/latex": [
       "$$\\left ( \\sin{\\left (x \\right )} \\cos{\\left (y \\right )} - \\sin{\\left (y \\right )} \\cos{\\left (x \\right )}, \\quad 2 \\sin{\\left (x \\right )} \\cos{\\left (x \\right )}\\right )$$"
      ],
      "text/plain": [
       "(sin(x)⋅cos(y) - sin(y)⋅cos(x), 2⋅sin(x)⋅cos(x))"
      ]
     },
     "execution_count": 41,
     "metadata": {},
     "output_type": "execute_result"
    }
   ],
   "source": [
    "expand_trig(sin(x-y)),expand_trig(sin(2*x))"
   ]
  },
  {
   "cell_type": "markdown",
   "metadata": {},
   "source": [
    "The inverse transformation, rewriting products and powers of sines and cosines into expressions linear in these functions, is needed more often. Suppose we work with a truncated Fourier series."
   ]
  },
  {
   "cell_type": "code",
   "execution_count": 43,
   "metadata": {
    "collapsed": false
   },
   "outputs": [
    {
     "data": {
      "image/png": "[encoded data removed]",
      "text/latex": [
       "$$a_{1} \\cos{\\left (x \\right )} + a_{2} \\cos{\\left (2 x \\right )} + b_{1} \\sin{\\left (x \\right )} + b_{2} \\sin{\\left (2 x \\right )}$$"
      ],
      "text/plain": [
       "a₁⋅cos(x) + a₂⋅cos(2⋅x) + b₁⋅sin(x) + b₂⋅sin(2⋅x)"
      ]
     },
     "execution_count": 43,
     "metadata": {},
     "output_type": "execute_result"
    }
   ],
   "source": [
    "a1,a2,b1,b2=symbols('a1 a2 b1 b2')\n",
    "a=a1*cos(x)+a2*cos(2*x)+b1*sin(x)+b2*sin(2*x)\n",
    "a"
   ]
  },
  {
   "cell_type": "markdown",
   "metadata": {},
   "source": [
    "We want to square it and get a truncated Fourier series again."
   ]
  },
  {
   "cell_type": "code",
   "execution_count": 44,
   "metadata": {
    "collapsed": false
   },
   "outputs": [
    {
     "data": {
      "image/png": "[encoded data removed]",
      "text/latex": [
       "$$\\left(a_{1} \\cos{\\left (x \\right )} + a_{2} \\cos{\\left (2 x \\right )} + b_{1} \\sin{\\left (x \\right )} + b_{2} \\sin{\\left (2 x \\right )}\\right)^{2}$$"
      ],
      "text/plain": [
       "                                                   2\n",
       "(a₁⋅cos(x) + a₂⋅cos(2⋅x) + b₁⋅sin(x) + b₂⋅sin(2⋅x)) "
      ]
     },
     "execution_count": 44,
     "metadata": {},
     "output_type": "execute_result"
    }
   ],
   "source": [
    "a**2"
   ]
  },
  {
   "cell_type": "code",
   "execution_count": 47,
   "metadata": {
    "collapsed": false
   },
   "outputs": [
    {
     "data": {
      "image/png": "[encoded data removed]",
      "text/latex": [
       "$$\\sin{\\left (2 x \\right )} + \\cos{\\left (x \\right )}$$"
      ],
      "text/plain": [
       "sin(2⋅x) + cos(x)"
      ]
     },
     "execution_count": 47,
     "metadata": {},
     "output_type": "execute_result"
    }
   ],
   "source": [
    "a.subs({a1:1,a2:0,b1:0,b2:1})"
   ]
  },
  {
   "cell_type": "code",
   "execution_count": 48,
   "metadata": {
    "collapsed": false
   },
   "outputs": [
    {
     "data": {
      "image/png": "[encoded data removed]",
      "text/latex": [
       "$$- \\frac{i}{2} \\left(e^{2 i x} - e^{- 2 i x}\\right) + \\frac{e^{i x}}{2} + \\frac{1}{2} e^{- i x}$$"
      ],
      "text/plain": [
       "    ⎛ 2⋅ⅈ⋅x    -2⋅ⅈ⋅x⎞    ⅈ⋅x    -ⅈ⋅x\n",
       "  ⅈ⋅⎝ℯ      - ℯ      ⎠   ℯ      ℯ    \n",
       "- ──────────────────── + ──── + ─────\n",
       "           2              2       2  "
      ]
     },
     "execution_count": 48,
     "metadata": {},
     "output_type": "execute_result"
    }
   ],
   "source": [
    "a.subs({a1:1,a2:0,b1:0,b2:1}).rewrite(exp)"
   ]
  },
  {
   "cell_type": "code",
   "execution_count": 49,
   "metadata": {
    "collapsed": false
   },
   "outputs": [
    {
     "data": {
      "image/png": "[encoded data removed]",
      "text/latex": [
       "$$- \\frac{i}{2} e^{2 i x} + \\frac{e^{i x}}{2} + \\frac{1}{2} e^{- i x} + \\frac{i}{2} e^{- 2 i x}$$"
      ],
      "text/plain": [
       "     2⋅ⅈ⋅x    ⅈ⋅x    -ⅈ⋅x      -2⋅ⅈ⋅x\n",
       "  ⅈ⋅ℯ        ℯ      ℯ       ⅈ⋅ℯ      \n",
       "- ──────── + ──── + ───── + ─────────\n",
       "     2        2       2         2    "
      ]
     },
     "execution_count": 49,
     "metadata": {},
     "output_type": "execute_result"
    }
   ],
   "source": [
    "a.subs({a1:1,a2:0,b1:0,b2:1}).rewrite(exp).expand()"
   ]
  },
  {
   "cell_type": "code",
   "execution_count": 51,
   "metadata": {
    "collapsed": false
   },
   "outputs": [
    {
     "data": {
      "image/png": "[encoded data removed]",
      "text/latex": [
       "$$\\frac{i}{2} \\left(- i \\sin{\\left (2 x \\right )} + \\cos{\\left (2 x \\right )}\\right) - \\frac{i}{2} \\left(i \\sin{\\left (2 x \\right )} + \\cos{\\left (2 x \\right )}\\right) + \\cos{\\left (x \\right )}$$"
      ],
      "text/plain": [
       "ⅈ⋅(-ⅈ⋅sin(2⋅x) + cos(2⋅x))   ⅈ⋅(ⅈ⋅sin(2⋅x) + cos(2⋅x))         \n",
       "────────────────────────── - ───────────────────────── + cos(x)\n",
       "            2                            2                     "
      ]
     },
     "execution_count": 51,
     "metadata": {},
     "output_type": "execute_result"
    }
   ],
   "source": [
    "a.subs({a1:1,a2:0,b1:0,b2:1}).rewrite(exp).expand().rewrite(cos)"
   ]
  },
  {
   "cell_type": "code",
   "execution_count": 53,
   "metadata": {
    "collapsed": false
   },
   "outputs": [
    {
     "data": {
      "image/png": "[encoded data removed]",
      "text/latex": [
       "$$\\sin{\\left (2 x \\right )} + \\cos{\\left (x \\right )}$$"
      ],
      "text/plain": [
       "sin(2⋅x) + cos(x)"
      ]
     },
     "execution_count": 53,
     "metadata": {},
     "output_type": "execute_result"
    }
   ],
   "source": [
    "p = a.subs({a1:1,a2:0,b1:0,b2:1}).rewrite(exp).expand().rewrite(cos)\n",
    "p.expand()"
   ]
  },
  {
   "cell_type": "code",
   "execution_count": 54,
   "metadata": {
    "collapsed": false
   },
   "outputs": [
    {
     "data": {
      "image/png": "[encoded data removed]",
      "text/latex": [
       "$$\\frac{i}{2} \\left(- i \\sin{\\left (2 x \\right )} + \\cos{\\left (2 x \\right )}\\right) - \\frac{i}{2} \\left(i \\sin{\\left (2 x \\right )} + \\cos{\\left (2 x \\right )}\\right) + \\cos{\\left (x \\right )}$$"
      ],
      "text/plain": [
       "ⅈ⋅(-ⅈ⋅sin(2⋅x) + cos(2⋅x))   ⅈ⋅(ⅈ⋅sin(2⋅x) + cos(2⋅x))         \n",
       "────────────────────────── - ───────────────────────── + cos(x)\n",
       "            2                            2                     "
      ]
     },
     "execution_count": 54,
     "metadata": {},
     "output_type": "execute_result"
    }
   ],
   "source": [
    "p.collect([cos(x),cos(2*x),cos(3*x),sin(x),sin(2*x),sin(3*x)])"
   ]
  }
 ],
 "metadata": {
  "anaconda-cloud": {},
  "kernelspec": {
   "display_name": "Python [conda root]",
   "language": "python",
   "name": "conda-root-py"
  },
  "language_info": {
   "codemirror_mode": {
    "name": "ipython",
    "version": 2
   },
   "file_extension": ".py",
   "mimetype": "text/x-python",
   "name": "python",
   "nbconvert_exporter": "python",
   "pygments_lexer": "ipython2",
   "version": "2.7.12"
  }
 },
 "nbformat": 4,
 "nbformat_minor": 1
}
